{
 "cells": [
  {
   "cell_type": "markdown",
   "id": "db07bcf7",
   "metadata": {},
   "source": [
    "# Git\n",
    "\n",
    "Git cheet sheet: https://www.atlassian.com/git/tutorials/atlassian-git-cheatsheet\n",
    "\n",
    "Some key terms:\n",
    "0. Git clone https://github.com/msr35/PFCH.git : Creates a new repository at this location. \n",
    "1. Git status           : The status of the directory. Which files are tracked, or not. Whether they've been changed. \n",
    "2. Git add filename     : The new file(s) to be tracked. Add again if the tile is updated. \n",
    "3. Git commit -m 'test' : Committing to the local repository (?), with a message. \n",
    "4. Git pull             : Grabbing the latest remote version. \n",
    "\n",
    "Branching is especially useful on team projects. This can be done easily through the website. It allows \n",
    "\n"
   ]
  },
  {
   "cell_type": "code",
   "execution_count": 1,
   "id": "d8aac341",
   "metadata": {},
   "outputs": [
    {
     "name": "stdout",
     "output_type": "stream",
     "text": [
      "Hello World\n"
     ]
    }
   ],
   "source": [
    "print(\"Hello World\")"
   ]
  },
  {
   "cell_type": "code",
   "execution_count": null,
   "id": "5875464e",
   "metadata": {},
   "outputs": [],
   "source": [
    "print(\"Hello again\")"
   ]
  }
 ],
 "metadata": {
  "kernelspec": {
   "display_name": "Python 3 (ipykernel)",
   "language": "python",
   "name": "python3"
  },
  "language_info": {
   "codemirror_mode": {
    "name": "ipython",
    "version": 3
   },
   "file_extension": ".py",
   "mimetype": "text/x-python",
   "name": "python",
   "nbconvert_exporter": "python",
   "pygments_lexer": "ipython3",
   "version": "3.9.13"
  }
 },
 "nbformat": 4,
 "nbformat_minor": 5
}
