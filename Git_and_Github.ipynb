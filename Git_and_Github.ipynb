{
 "cells": [
  {
   "cell_type": "markdown",
   "id": "48590e95",
   "metadata": {},
   "source": [
    "# Git\n",
    "\n",
    "Git cheet sheet: https://www.atlassian.com/git/tutorials/atlassian-git-cheatsheet\n",
    "\n",
    "Some key terms:\n",
    "1. Git status          : The status of the directory. Which files are tracked, or not. \n",
    "2. Git add filename    : The new file(s) to be tracked. \n",
    "\n"
   ]
  },
  {
   "cell_type": "code",
   "execution_count": 1,
   "id": "667433a2",
   "metadata": {},
   "outputs": [
    {
     "name": "stdout",
     "output_type": "stream",
     "text": [
      "Hello World\n"
     ]
    }
   ],
   "source": [
    "print(\"Hello World\")"
   ]
  },
  {
   "cell_type": "code",
   "execution_count": null,
   "id": "f79ccf37",
   "metadata": {},
   "outputs": [],
   "source": [
    "print(\"Hello again\")"
   ]
  }
 ],
 "metadata": {
  "kernelspec": {
   "display_name": "Python 3 (ipykernel)",
   "language": "python",
   "name": "python3"
  },
  "language_info": {
   "codemirror_mode": {
    "name": "ipython",
    "version": 3
   },
   "file_extension": ".py",
   "mimetype": "text/x-python",
   "name": "python",
   "nbconvert_exporter": "python",
   "pygments_lexer": "ipython3",
   "version": "3.9.13"
  }
 },
 "nbformat": 4,
 "nbformat_minor": 5
}
